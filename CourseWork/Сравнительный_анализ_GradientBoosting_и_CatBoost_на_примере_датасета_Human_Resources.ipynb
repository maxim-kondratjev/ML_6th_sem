{
  "nbformat": 4,
  "nbformat_minor": 0,
  "metadata": {
    "colab": {
      "name": "Сравнительный анализ GradientBoosting и CatBoost на примере датасета Human Resources.ipynb",
      "version": "0.3.2",
      "provenance": [],
      "collapsed_sections": []
    },
    "kernelspec": {
      "name": "python3",
      "display_name": "Python 3"
    },
    "accelerator": "GPU"
  },
  "cells": [
    {
      "cell_type": "markdown",
      "metadata": {
        "id": "6a5WQjqBVGfg",
        "colab_type": "text"
      },
      "source": [
        "# Подключаем обучение на gpu"
      ]
    },
    {
      "cell_type": "code",
      "metadata": {
        "id": "Y2pOclpAozX0",
        "colab_type": "code",
        "outputId": "4a1c721a-346a-4f52-dedb-912762969f90",
        "colab": {
          "base_uri": "https://localhost:8080/",
          "height": 34
        }
      },
      "source": [
        "from os.path import exists\n",
        "from wheel.pep425tags import get_abbr_impl, get_impl_ver, get_abi_tag\n",
        "platform = '{}{}-{}'.format(get_abbr_impl(), get_impl_ver(), get_abi_tag())\n",
        "cuda_output = !ldconfig -p|grep cudart.so|sed -e 's/.*\\.\\([0-9]*\\)\\.\\([0-9]*\\)$/cu\\1\\2/'\n",
        "accelerator = cuda_output[0] if exists('/dev/nvidia0') else 'cpu'\n",
        "accelerator"
      ],
      "execution_count": 1,
      "outputs": [
        {
          "output_type": "execute_result",
          "data": {
            "text/plain": [
              "'cu100'"
            ]
          },
          "metadata": {
            "tags": []
          },
          "execution_count": 1
        }
      ]
    },
    {
      "cell_type": "markdown",
      "metadata": {
        "id": "f1osJiCsVcZO",
        "colab_type": "text"
      },
      "source": [
        "# Устанавливаем CatBoost"
      ]
    },
    {
      "cell_type": "code",
      "metadata": {
        "id": "gEXIZ3YsFDWC",
        "colab_type": "code",
        "outputId": "11207a8d-b7e2-49f0-ead2-675a59c60515",
        "colab": {
          "base_uri": "https://localhost:8080/",
          "height": 202
        }
      },
      "source": [
        "!pip install catboost"
      ],
      "execution_count": 2,
      "outputs": [
        {
          "output_type": "stream",
          "text": [
            "Collecting catboost\n",
            "\u001b[?25l  Downloading https://files.pythonhosted.org/packages/5a/8a/a867c35770291646b085e9248814eb32dbe2aa824715b08e40cd92d0a83e/catboost-0.15.1-cp36-none-manylinux1_x86_64.whl (61.0MB)\n",
            "\u001b[K     |████████████████████████████████| 61.1MB 52.9MB/s \n",
            "\u001b[?25hRequirement already satisfied: graphviz in /usr/local/lib/python3.6/dist-packages (from catboost) (0.10.1)\n",
            "Requirement already satisfied: pandas>=0.19.1 in /usr/local/lib/python3.6/dist-packages (from catboost) (0.24.2)\n",
            "Requirement already satisfied: six in /usr/local/lib/python3.6/dist-packages (from catboost) (1.12.0)\n",
            "Requirement already satisfied: numpy>=1.16.0 in /usr/local/lib/python3.6/dist-packages (from catboost) (1.16.4)\n",
            "Requirement already satisfied: python-dateutil>=2.5.0 in /usr/local/lib/python3.6/dist-packages (from pandas>=0.19.1->catboost) (2.5.3)\n",
            "Requirement already satisfied: pytz>=2011k in /usr/local/lib/python3.6/dist-packages (from pandas>=0.19.1->catboost) (2018.9)\n",
            "Installing collected packages: catboost\n",
            "Successfully installed catboost-0.15.1\n"
          ],
          "name": "stdout"
        }
      ]
    },
    {
      "cell_type": "markdown",
      "metadata": {
        "id": "nu5mXX7HVkYT",
        "colab_type": "text"
      },
      "source": [
        "#Импортируем требуемые модули:  \n",
        "\n",
        "\n",
        "*   numpy для матричных вычислений\n",
        "*   pandas для работы с данными \n",
        "*   seaborn и matplotlib для отрисовки графиков\n",
        "\n"
      ]
    },
    {
      "cell_type": "code",
      "metadata": {
        "id": "6TbBBPoTw0GL",
        "colab_type": "code",
        "colab": {}
      },
      "source": [
        "import numpy as np\n",
        "import pandas as pd\n",
        "import seaborn as sns\n",
        "import matplotlib.pyplot as plt\n",
        "%matplotlib inline \n",
        "sns.set(style=\"ticks\")"
      ],
      "execution_count": 0,
      "outputs": []
    },
    {
      "cell_type": "markdown",
      "metadata": {
        "id": "unBdkWT9V7YC",
        "colab_type": "text"
      },
      "source": [
        "# Монтируем Google Drive"
      ]
    },
    {
      "cell_type": "code",
      "metadata": {
        "id": "FQgufGJ373LE",
        "colab_type": "code",
        "outputId": "d868202e-c63a-464a-e91c-685374c3c2f1",
        "colab": {
          "base_uri": "https://localhost:8080/",
          "height": 121
        }
      },
      "source": [
        "from google.colab import drive\n",
        "drive.mount('/gdrive')\n",
        "root = '/gdrive/My Drive/ML_CourseWork/human-resources-data-set/'"
      ],
      "execution_count": 4,
      "outputs": [
        {
          "output_type": "stream",
          "text": [
            "Go to this URL in a browser: https://accounts.google.com/o/oauth2/auth?client_id=947318989803-6bn6qk8qdgf4n4g3pfee6491hc0brc4i.apps.googleusercontent.com&redirect_uri=urn%3Aietf%3Awg%3Aoauth%3A2.0%3Aoob&scope=email%20https%3A%2F%2Fwww.googleapis.com%2Fauth%2Fdocs.test%20https%3A%2F%2Fwww.googleapis.com%2Fauth%2Fdrive%20https%3A%2F%2Fwww.googleapis.com%2Fauth%2Fdrive.photos.readonly%20https%3A%2F%2Fwww.googleapis.com%2Fauth%2Fpeopleapi.readonly&response_type=code\n",
            "\n",
            "Enter your authorization code:\n",
            "··········\n",
            "Mounted at /gdrive\n"
          ],
          "name": "stdout"
        }
      ]
    },
    {
      "cell_type": "markdown",
      "metadata": {
        "id": "iTYERPlYV_z_",
        "colab_type": "text"
      },
      "source": [
        "# Считываем датасет в pd.DataFrame из .csv файла\n",
        "Проводим исследование и обработку данных. Обнаруживаем множество категориальных фич, которые требуется перевести в числовые для большинства моделей."
      ]
    },
    {
      "cell_type": "code",
      "metadata": {
        "id": "SnNmSKUSFN9N",
        "colab_type": "code",
        "colab": {
          "base_uri": "https://localhost:8080/",
          "height": 417
        },
        "outputId": "8e65d5cb-0088-4cc1-9ab7-bdea8166cf35"
      },
      "source": [
        "hr_stats = pd.read_csv(root+'HRDataset_v9.csv')\n",
        "hr_stats.head()"
      ],
      "execution_count": 5,
      "outputs": [
        {
          "output_type": "execute_result",
          "data": {
            "text/html": [
              "<div>\n",
              "<style scoped>\n",
              "    .dataframe tbody tr th:only-of-type {\n",
              "        vertical-align: middle;\n",
              "    }\n",
              "\n",
              "    .dataframe tbody tr th {\n",
              "        vertical-align: top;\n",
              "    }\n",
              "\n",
              "    .dataframe thead th {\n",
              "        text-align: right;\n",
              "    }\n",
              "</style>\n",
              "<table border=\"1\" class=\"dataframe\">\n",
              "  <thead>\n",
              "    <tr style=\"text-align: right;\">\n",
              "      <th></th>\n",
              "      <th>Employee Name</th>\n",
              "      <th>Employee Number</th>\n",
              "      <th>MarriedID</th>\n",
              "      <th>MaritalStatusID</th>\n",
              "      <th>GenderID</th>\n",
              "      <th>EmpStatus_ID</th>\n",
              "      <th>DeptID</th>\n",
              "      <th>Perf_ScoreID</th>\n",
              "      <th>Age</th>\n",
              "      <th>Pay Rate</th>\n",
              "      <th>State</th>\n",
              "      <th>Zip</th>\n",
              "      <th>DOB</th>\n",
              "      <th>Sex</th>\n",
              "      <th>MaritalDesc</th>\n",
              "      <th>CitizenDesc</th>\n",
              "      <th>Hispanic/Latino</th>\n",
              "      <th>RaceDesc</th>\n",
              "      <th>Date of Hire</th>\n",
              "      <th>Days Employed</th>\n",
              "      <th>Date of Termination</th>\n",
              "      <th>Reason For Term</th>\n",
              "      <th>Employment Status</th>\n",
              "      <th>Department</th>\n",
              "      <th>Position</th>\n",
              "      <th>Manager Name</th>\n",
              "      <th>Employee Source</th>\n",
              "      <th>Performance Score</th>\n",
              "    </tr>\n",
              "  </thead>\n",
              "  <tbody>\n",
              "    <tr>\n",
              "      <th>0</th>\n",
              "      <td>Brown, Mia</td>\n",
              "      <td>1103024456</td>\n",
              "      <td>1</td>\n",
              "      <td>1</td>\n",
              "      <td>0</td>\n",
              "      <td>1</td>\n",
              "      <td>1</td>\n",
              "      <td>3</td>\n",
              "      <td>30</td>\n",
              "      <td>28.50</td>\n",
              "      <td>MA</td>\n",
              "      <td>1450</td>\n",
              "      <td>11/24/1987</td>\n",
              "      <td>Female</td>\n",
              "      <td>Married</td>\n",
              "      <td>US Citizen</td>\n",
              "      <td>No</td>\n",
              "      <td>Black or African American</td>\n",
              "      <td>10/27/2008</td>\n",
              "      <td>3317</td>\n",
              "      <td>NaN</td>\n",
              "      <td>N/A - still employed</td>\n",
              "      <td>Active</td>\n",
              "      <td>Admin Offices</td>\n",
              "      <td>Accountant I</td>\n",
              "      <td>Brandon R. LeBlanc</td>\n",
              "      <td>Diversity Job Fair</td>\n",
              "      <td>Fully Meets</td>\n",
              "    </tr>\n",
              "    <tr>\n",
              "      <th>1</th>\n",
              "      <td>LaRotonda, William</td>\n",
              "      <td>1106026572</td>\n",
              "      <td>0</td>\n",
              "      <td>2</td>\n",
              "      <td>1</td>\n",
              "      <td>1</td>\n",
              "      <td>1</td>\n",
              "      <td>3</td>\n",
              "      <td>34</td>\n",
              "      <td>23.00</td>\n",
              "      <td>MA</td>\n",
              "      <td>1460</td>\n",
              "      <td>4/26/1984</td>\n",
              "      <td>Male</td>\n",
              "      <td>Divorced</td>\n",
              "      <td>US Citizen</td>\n",
              "      <td>No</td>\n",
              "      <td>Black or African American</td>\n",
              "      <td>1/6/2014</td>\n",
              "      <td>1420</td>\n",
              "      <td>NaN</td>\n",
              "      <td>N/A - still employed</td>\n",
              "      <td>Active</td>\n",
              "      <td>Admin Offices</td>\n",
              "      <td>Accountant I</td>\n",
              "      <td>Brandon R. LeBlanc</td>\n",
              "      <td>Website Banner Ads</td>\n",
              "      <td>Fully Meets</td>\n",
              "    </tr>\n",
              "    <tr>\n",
              "      <th>2</th>\n",
              "      <td>Steans, Tyrone</td>\n",
              "      <td>1302053333</td>\n",
              "      <td>0</td>\n",
              "      <td>0</td>\n",
              "      <td>1</td>\n",
              "      <td>1</td>\n",
              "      <td>1</td>\n",
              "      <td>3</td>\n",
              "      <td>31</td>\n",
              "      <td>29.00</td>\n",
              "      <td>MA</td>\n",
              "      <td>2703</td>\n",
              "      <td>9/1/1986</td>\n",
              "      <td>Male</td>\n",
              "      <td>Single</td>\n",
              "      <td>US Citizen</td>\n",
              "      <td>No</td>\n",
              "      <td>White</td>\n",
              "      <td>9/29/2014</td>\n",
              "      <td>1154</td>\n",
              "      <td>NaN</td>\n",
              "      <td>N/A - still employed</td>\n",
              "      <td>Active</td>\n",
              "      <td>Admin Offices</td>\n",
              "      <td>Accountant I</td>\n",
              "      <td>Brandon R. LeBlanc</td>\n",
              "      <td>Internet Search</td>\n",
              "      <td>Fully Meets</td>\n",
              "    </tr>\n",
              "    <tr>\n",
              "      <th>3</th>\n",
              "      <td>Howard, Estelle</td>\n",
              "      <td>1211050782</td>\n",
              "      <td>1</td>\n",
              "      <td>1</td>\n",
              "      <td>0</td>\n",
              "      <td>1</td>\n",
              "      <td>1</td>\n",
              "      <td>9</td>\n",
              "      <td>32</td>\n",
              "      <td>21.50</td>\n",
              "      <td>MA</td>\n",
              "      <td>2170</td>\n",
              "      <td>9/16/1985</td>\n",
              "      <td>Female</td>\n",
              "      <td>Married</td>\n",
              "      <td>US Citizen</td>\n",
              "      <td>No</td>\n",
              "      <td>White</td>\n",
              "      <td>2/16/2015</td>\n",
              "      <td>58</td>\n",
              "      <td>4/15/2015</td>\n",
              "      <td>N/A - still employed</td>\n",
              "      <td>Active</td>\n",
              "      <td>Admin Offices</td>\n",
              "      <td>Administrative Assistant</td>\n",
              "      <td>Brandon R. LeBlanc</td>\n",
              "      <td>Pay Per Click - Google</td>\n",
              "      <td>N/A- too early to review</td>\n",
              "    </tr>\n",
              "    <tr>\n",
              "      <th>4</th>\n",
              "      <td>Singh, Nan</td>\n",
              "      <td>1307059817</td>\n",
              "      <td>0</td>\n",
              "      <td>0</td>\n",
              "      <td>0</td>\n",
              "      <td>1</td>\n",
              "      <td>1</td>\n",
              "      <td>9</td>\n",
              "      <td>30</td>\n",
              "      <td>16.56</td>\n",
              "      <td>MA</td>\n",
              "      <td>2330</td>\n",
              "      <td>5/19/1988</td>\n",
              "      <td>Female</td>\n",
              "      <td>Single</td>\n",
              "      <td>US Citizen</td>\n",
              "      <td>No</td>\n",
              "      <td>White</td>\n",
              "      <td>5/1/2015</td>\n",
              "      <td>940</td>\n",
              "      <td>NaN</td>\n",
              "      <td>N/A - still employed</td>\n",
              "      <td>Active</td>\n",
              "      <td>Admin Offices</td>\n",
              "      <td>Administrative Assistant</td>\n",
              "      <td>Brandon R. LeBlanc</td>\n",
              "      <td>Website Banner Ads</td>\n",
              "      <td>N/A- too early to review</td>\n",
              "    </tr>\n",
              "  </tbody>\n",
              "</table>\n",
              "</div>"
            ],
            "text/plain": [
              "          Employee Name  ...         Performance Score\n",
              "0            Brown, Mia  ...               Fully Meets\n",
              "1  LaRotonda, William    ...               Fully Meets\n",
              "2      Steans, Tyrone    ...               Fully Meets\n",
              "3       Howard, Estelle  ...  N/A- too early to review\n",
              "4           Singh, Nan   ...  N/A- too early to review\n",
              "\n",
              "[5 rows x 28 columns]"
            ]
          },
          "metadata": {
            "tags": []
          },
          "execution_count": 5
        }
      ]
    },
    {
      "cell_type": "code",
      "metadata": {
        "id": "RIb_Ob6CovuD",
        "colab_type": "code",
        "colab": {
          "base_uri": "https://localhost:8080/",
          "height": 504
        },
        "outputId": "a0ee2f69-7221-4bfe-dda0-ecc50c0306d0"
      },
      "source": [
        "hr_stats.isna().sum()"
      ],
      "execution_count": 6,
      "outputs": [
        {
          "output_type": "execute_result",
          "data": {
            "text/plain": [
              "Employee Name            0\n",
              "Employee Number          0\n",
              "MarriedID                0\n",
              "MaritalStatusID          0\n",
              "GenderID                 0\n",
              "EmpStatus_ID             0\n",
              "DeptID                   0\n",
              "Perf_ScoreID             0\n",
              "Age                      0\n",
              "Pay Rate                 0\n",
              "State                    0\n",
              "Zip                      0\n",
              "DOB                      0\n",
              "Sex                      0\n",
              "MaritalDesc              0\n",
              "CitizenDesc              0\n",
              "Hispanic/Latino          0\n",
              "RaceDesc                 0\n",
              "Date of Hire             0\n",
              "Days Employed            0\n",
              "Date of Termination    207\n",
              "Reason For Term          0\n",
              "Employment Status        0\n",
              "Department               0\n",
              "Position                 0\n",
              "Manager Name             0\n",
              "Employee Source          0\n",
              "Performance Score        0\n",
              "dtype: int64"
            ]
          },
          "metadata": {
            "tags": []
          },
          "execution_count": 6
        }
      ]
    },
    {
      "cell_type": "code",
      "metadata": {
        "id": "k7e_mub5o2Bj",
        "colab_type": "code",
        "colab": {
          "base_uri": "https://localhost:8080/",
          "height": 284
        },
        "outputId": "8922e48f-ea58-4f28-9d2d-0681a361e2fb"
      },
      "source": [
        "hr_stats.describe()"
      ],
      "execution_count": 7,
      "outputs": [
        {
          "output_type": "execute_result",
          "data": {
            "text/html": [
              "<div>\n",
              "<style scoped>\n",
              "    .dataframe tbody tr th:only-of-type {\n",
              "        vertical-align: middle;\n",
              "    }\n",
              "\n",
              "    .dataframe tbody tr th {\n",
              "        vertical-align: top;\n",
              "    }\n",
              "\n",
              "    .dataframe thead th {\n",
              "        text-align: right;\n",
              "    }\n",
              "</style>\n",
              "<table border=\"1\" class=\"dataframe\">\n",
              "  <thead>\n",
              "    <tr style=\"text-align: right;\">\n",
              "      <th></th>\n",
              "      <th>Employee Number</th>\n",
              "      <th>MarriedID</th>\n",
              "      <th>MaritalStatusID</th>\n",
              "      <th>GenderID</th>\n",
              "      <th>EmpStatus_ID</th>\n",
              "      <th>DeptID</th>\n",
              "      <th>Perf_ScoreID</th>\n",
              "      <th>Age</th>\n",
              "      <th>Pay Rate</th>\n",
              "      <th>Zip</th>\n",
              "      <th>Days Employed</th>\n",
              "    </tr>\n",
              "  </thead>\n",
              "  <tbody>\n",
              "    <tr>\n",
              "      <th>count</th>\n",
              "      <td>3.100000e+02</td>\n",
              "      <td>310.000000</td>\n",
              "      <td>310.000000</td>\n",
              "      <td>310.000000</td>\n",
              "      <td>310.000000</td>\n",
              "      <td>310.000000</td>\n",
              "      <td>310.000000</td>\n",
              "      <td>310.000000</td>\n",
              "      <td>310.000000</td>\n",
              "      <td>310.000000</td>\n",
              "      <td>310.000000</td>\n",
              "    </tr>\n",
              "    <tr>\n",
              "      <th>mean</th>\n",
              "      <td>1.199745e+09</td>\n",
              "      <td>0.396774</td>\n",
              "      <td>0.809677</td>\n",
              "      <td>0.429032</td>\n",
              "      <td>2.396774</td>\n",
              "      <td>4.606452</td>\n",
              "      <td>3.458065</td>\n",
              "      <td>38.867742</td>\n",
              "      <td>31.284806</td>\n",
              "      <td>6569.732258</td>\n",
              "      <td>1296.080645</td>\n",
              "    </tr>\n",
              "    <tr>\n",
              "      <th>std</th>\n",
              "      <td>1.829600e+08</td>\n",
              "      <td>0.490019</td>\n",
              "      <td>0.944702</td>\n",
              "      <td>0.495738</td>\n",
              "      <td>1.795533</td>\n",
              "      <td>1.082349</td>\n",
              "      <td>2.318460</td>\n",
              "      <td>8.922459</td>\n",
              "      <td>15.383615</td>\n",
              "      <td>16933.864054</td>\n",
              "      <td>769.491382</td>\n",
              "    </tr>\n",
              "    <tr>\n",
              "      <th>min</th>\n",
              "      <td>6.020003e+08</td>\n",
              "      <td>0.000000</td>\n",
              "      <td>0.000000</td>\n",
              "      <td>0.000000</td>\n",
              "      <td>1.000000</td>\n",
              "      <td>1.000000</td>\n",
              "      <td>0.000000</td>\n",
              "      <td>25.000000</td>\n",
              "      <td>14.000000</td>\n",
              "      <td>1013.000000</td>\n",
              "      <td>2.000000</td>\n",
              "    </tr>\n",
              "    <tr>\n",
              "      <th>25%</th>\n",
              "      <td>1.101024e+09</td>\n",
              "      <td>0.000000</td>\n",
              "      <td>0.000000</td>\n",
              "      <td>0.000000</td>\n",
              "      <td>1.000000</td>\n",
              "      <td>5.000000</td>\n",
              "      <td>3.000000</td>\n",
              "      <td>32.000000</td>\n",
              "      <td>20.000000</td>\n",
              "      <td>1901.250000</td>\n",
              "      <td>766.250000</td>\n",
              "    </tr>\n",
              "    <tr>\n",
              "      <th>50%</th>\n",
              "      <td>1.203032e+09</td>\n",
              "      <td>0.000000</td>\n",
              "      <td>1.000000</td>\n",
              "      <td>0.000000</td>\n",
              "      <td>1.000000</td>\n",
              "      <td>5.000000</td>\n",
              "      <td>3.000000</td>\n",
              "      <td>37.000000</td>\n",
              "      <td>24.000000</td>\n",
              "      <td>2132.000000</td>\n",
              "      <td>1238.000000</td>\n",
              "    </tr>\n",
              "    <tr>\n",
              "      <th>75%</th>\n",
              "      <td>1.378814e+09</td>\n",
              "      <td>1.000000</td>\n",
              "      <td>1.000000</td>\n",
              "      <td>1.000000</td>\n",
              "      <td>5.000000</td>\n",
              "      <td>5.000000</td>\n",
              "      <td>3.000000</td>\n",
              "      <td>44.000000</td>\n",
              "      <td>45.315000</td>\n",
              "      <td>2357.000000</td>\n",
              "      <td>1732.750000</td>\n",
              "    </tr>\n",
              "    <tr>\n",
              "      <th>max</th>\n",
              "      <td>1.988300e+09</td>\n",
              "      <td>1.000000</td>\n",
              "      <td>4.000000</td>\n",
              "      <td>1.000000</td>\n",
              "      <td>5.000000</td>\n",
              "      <td>6.000000</td>\n",
              "      <td>9.000000</td>\n",
              "      <td>67.000000</td>\n",
              "      <td>80.000000</td>\n",
              "      <td>98052.000000</td>\n",
              "      <td>4339.000000</td>\n",
              "    </tr>\n",
              "  </tbody>\n",
              "</table>\n",
              "</div>"
            ],
            "text/plain": [
              "       Employee Number   MarriedID  ...           Zip  Days Employed\n",
              "count     3.100000e+02  310.000000  ...    310.000000     310.000000\n",
              "mean      1.199745e+09    0.396774  ...   6569.732258    1296.080645\n",
              "std       1.829600e+08    0.490019  ...  16933.864054     769.491382\n",
              "min       6.020003e+08    0.000000  ...   1013.000000       2.000000\n",
              "25%       1.101024e+09    0.000000  ...   1901.250000     766.250000\n",
              "50%       1.203032e+09    0.000000  ...   2132.000000    1238.000000\n",
              "75%       1.378814e+09    1.000000  ...   2357.000000    1732.750000\n",
              "max       1.988300e+09    1.000000  ...  98052.000000    4339.000000\n",
              "\n",
              "[8 rows x 11 columns]"
            ]
          },
          "metadata": {
            "tags": []
          },
          "execution_count": 7
        }
      ]
    },
    {
      "cell_type": "code",
      "metadata": {
        "id": "0F0Q2ljo48ww",
        "colab_type": "code",
        "colab": {
          "base_uri": "https://localhost:8080/",
          "height": 487
        },
        "outputId": "ac15a4f4-b7fb-4fc9-975b-ad8de2ffb378"
      },
      "source": [
        "for col in hr_stats.columns:\n",
        "  print(col, \": Тип - \", hr_stats[col].dtype, 'Уникальных значений -', hr_stats[col].nunique())"
      ],
      "execution_count": 8,
      "outputs": [
        {
          "output_type": "stream",
          "text": [
            "Employee Name : Тип -  object Уникальных значений - 310\n",
            "Employee Number : Тип -  int64 Уникальных значений - 309\n",
            "MarriedID : Тип -  int64 Уникальных значений - 2\n",
            "MaritalStatusID : Тип -  int64 Уникальных значений - 5\n",
            "GenderID : Тип -  int64 Уникальных значений - 2\n",
            "EmpStatus_ID : Тип -  int64 Уникальных значений - 5\n",
            "DeptID : Тип -  int64 Уникальных значений - 6\n",
            "Perf_ScoreID : Тип -  int64 Уникальных значений - 7\n",
            "Age : Тип -  int64 Уникальных значений - 39\n",
            "Pay Rate : Тип -  float64 Уникальных значений - 94\n",
            "State : Тип -  object Уникальных значений - 28\n",
            "Zip : Тип -  int64 Уникальных значений - 158\n",
            "DOB : Тип -  object Уникальных значений - 306\n",
            "Sex : Тип -  object Уникальных значений - 2\n",
            "MaritalDesc : Тип -  object Уникальных значений - 5\n",
            "CitizenDesc : Тип -  object Уникальных значений - 3\n",
            "Hispanic/Latino : Тип -  object Уникальных значений - 4\n",
            "RaceDesc : Тип -  object Уникальных значений - 6\n",
            "Date of Hire : Тип -  object Уникальных значений - 99\n",
            "Days Employed : Тип -  int64 Уникальных значений - 181\n",
            "Date of Termination : Тип -  object Уникальных значений - 93\n",
            "Reason For Term : Тип -  object Уникальных значений - 17\n",
            "Employment Status : Тип -  object Уникальных значений - 5\n",
            "Department : Тип -  object Уникальных значений - 6\n",
            "Position : Тип -  object Уникальных значений - 28\n",
            "Manager Name : Тип -  object Уникальных значений - 21\n",
            "Employee Source : Тип -  object Уникальных значений - 23\n",
            "Performance Score : Тип -  object Уникальных значений - 7\n"
          ],
          "name": "stdout"
        }
      ]
    },
    {
      "cell_type": "markdown",
      "metadata": {
        "id": "nMjpiXOzW7xZ",
        "colab_type": "text"
      },
      "source": [
        "# Функции для кодирования категориальных параметров"
      ]
    },
    {
      "cell_type": "code",
      "metadata": {
        "id": "rQQx5yhFy1pU",
        "colab_type": "code",
        "colab": {}
      },
      "source": [
        "from datetime import datetime\n",
        "\n",
        "def date_replacement(date_col):\n",
        "  year = []\n",
        "  month = []\n",
        "  day = []\n",
        "  for e in date_col:\n",
        "    date = datetime.strptime(e, '%m/%d/%Y')\n",
        "    year.append(date.year)\n",
        "    month.append(date.month)\n",
        "    day.append(date.day)\n",
        "  return pd.DataFrame(np.array([year, month, day]).T, columns=['year', 'month', 'day'])\n",
        "\n",
        "\n",
        "def ohe(cat_col):\n",
        "  return pd.get_dummies(cat_col, columns = cat_col.unique())\n",
        "\n",
        "\n",
        "from sklearn import preprocessing\n",
        "\n",
        "def le(cat_col):\n",
        "  encoder = preprocessing.LabelEncoder()\n",
        "  le_col= pd.DataFrame(encoder.fit_transform(cat_col), columns=[cat_col.name])\n",
        "  return le_col\n",
        "\n",
        "\n",
        "def col_del(data, cols):\n",
        "  for col in cols:\n",
        "    try:\n",
        "      del data[col]\n",
        "      print(\"Столбец \", col, \" удален\")\n",
        "    except:\n",
        "      print(\"Столбец \", col, \" не найден\")"
      ],
      "execution_count": 0,
      "outputs": []
    },
    {
      "cell_type": "markdown",
      "metadata": {
        "id": "g6v78T4ha-L5",
        "colab_type": "text"
      },
      "source": [
        "#Исследование и обработка данных"
      ]
    },
    {
      "cell_type": "markdown",
      "metadata": {
        "id": "pBiZpp_hw-0a",
        "colab_type": "text"
      },
      "source": [
        "В качестве данных для предсказания уровня оплаты человека с помощью модели CatBoost я выбрал основные категориальные фичи моего датасета, вкупе с небольшим количеством численных параметров.\n",
        "  \n",
        "Для обычного градиентного бустинга я использую те же самые данные, но вынужден провести кодирование категориальных.\n"
      ]
    },
    {
      "cell_type": "code",
      "metadata": {
        "id": "W8N8R4ko1Ia_",
        "colab_type": "code",
        "colab": {}
      },
      "source": [
        "gradboost_cat_features = ['State', 'CitizenDesc', 'Hispanic/Latino', 'RaceDesc', 'Date of Hire', 'Reason For Term', 'Position', 'Employee Source']\n",
        "gradboost_num_features = ['MarriedID', 'MaritalStatusID', 'GenderID', 'EmpStatus_ID', 'DeptID', 'Perf_ScoreID', \n",
        "                       'Age', 'Pay Rate', 'Days Employed']\n",
        "catboost_cat_features = ['Sex', 'MaritalDesc', 'Employment Status', 'Department', 'Performance Score',\n",
        "                        'State', 'CitizenDesc', 'Hispanic/Latino', 'RaceDesc', 'Date of Hire', 'Reason For Term', 'Position', 'Employee Source',]\n",
        "catboost_num_features = ['MarriedID', 'Age', 'Pay Rate', 'Days Employed']"
      ],
      "execution_count": 0,
      "outputs": []
    },
    {
      "cell_type": "code",
      "metadata": {
        "id": "qsgKJfQCYx7e",
        "colab_type": "code",
        "colab": {}
      },
      "source": [
        "Num_hr_stats_ohe = hr_stats[gradboost_cat_features+gradboost_num_features].copy()\n",
        "Num_hr_stats_le = hr_stats[gradboost_cat_features+gradboost_num_features].copy()\n",
        "Cat_hr_stats = hr_stats[catboost_cat_features + catboost_num_features].copy()"
      ],
      "execution_count": 0,
      "outputs": []
    },
    {
      "cell_type": "markdown",
      "metadata": {
        "id": "WOm-cXuZYDMT",
        "colab_type": "text"
      },
      "source": [
        "В качестве метода кодирование категорий я выбрал LabelEncoding, т.к. OneHotEncoding слишком сильно увеличивает количество параметров за счет большого количества вариативных значений в столбцах"
      ]
    },
    {
      "cell_type": "code",
      "metadata": {
        "id": "9P7gQfR54tId",
        "colab_type": "code",
        "outputId": "8f5bc1ab-8e70-4bf9-ece1-febf2fc13274",
        "colab": {
          "base_uri": "https://localhost:8080/",
          "height": 302
        }
      },
      "source": [
        "col_del(Num_hr_stats_le, gradboost_cat_features)\n",
        "col_del(Num_hr_stats_ohe, gradboost_cat_features)\n",
        "col_del(Cat_hr_stats, ['Date of Hire'])\n",
        "\n",
        "date = date_replacement(hr_stats['Date of Hire'])\n",
        "Num_hr_stats_le['Year of Hire'] = date['year']\n",
        "Num_hr_stats_ohe['Year of Hire'] = date['year']\n",
        "Cat_hr_stats['Year of Hire'] = date['year']\n",
        "Num_hr_stats_le['Month of Hire'] = date['month']\n",
        "Num_hr_stats_ohe['Month of Hire'] = date['month']\n",
        "Cat_hr_stats['Month of Hire'] = date['month']\n",
        "Num_hr_stats_le['Day of Hire'] = date['day']\n",
        "Num_hr_stats_ohe['Day of Hire'] = date['day']\n",
        "Cat_hr_stats['Day of Hire'] = date['day']\n",
        "\n",
        "for col in gradboost_cat_features:\n",
        "  if col!='Date of Hire':\n",
        "    Num_hr_stats_ohe = pd.concat([Num_hr_stats_ohe, ohe(hr_stats[col])], axis=1)\n",
        "    Num_hr_stats_le[col] = le(hr_stats[col]).values"
      ],
      "execution_count": 15,
      "outputs": [
        {
          "output_type": "stream",
          "text": [
            "Столбец  State  удален\n",
            "Столбец  CitizenDesc  удален\n",
            "Столбец  Hispanic/Latino  удален\n",
            "Столбец  RaceDesc  удален\n",
            "Столбец  Date of Hire  удален\n",
            "Столбец  Reason For Term  удален\n",
            "Столбец  Position  удален\n",
            "Столбец  Employee Source  удален\n",
            "Столбец  State  удален\n",
            "Столбец  CitizenDesc  удален\n",
            "Столбец  Hispanic/Latino  удален\n",
            "Столбец  RaceDesc  удален\n",
            "Столбец  Date of Hire  удален\n",
            "Столбец  Reason For Term  удален\n",
            "Столбец  Position  удален\n",
            "Столбец  Employee Source  удален\n",
            "Столбец  Date of Hire  удален\n"
          ],
          "name": "stdout"
        }
      ]
    },
    {
      "cell_type": "code",
      "metadata": {
        "id": "iQpF2lNLZRke",
        "colab_type": "code",
        "colab": {
          "base_uri": "https://localhost:8080/",
          "height": 34
        },
        "outputId": "af45b7d5-e011-4986-9831-a07394f14559"
      },
      "source": [
        "print(Num_hr_stats_ohe.shape, Num_hr_stats_le.shape)"
      ],
      "execution_count": 16,
      "outputs": [
        {
          "output_type": "stream",
          "text": [
            "(310, 121) (310, 19)\n"
          ],
          "name": "stdout"
        }
      ]
    },
    {
      "cell_type": "markdown",
      "metadata": {
        "id": "6z6uFP-HZaSU",
        "colab_type": "text"
      },
      "source": [
        "После кодирования, осмотрим распределения и попробуем найти закономерности в данных  \n",
        "  \n",
        "На графике видно, что часть данных имеет довольно равномерное распределение, но часть данных представлена в основном одним типом значений. При этом явных закономерностей обнаружить не удалось."
      ]
    },
    {
      "cell_type": "code",
      "metadata": {
        "id": "nYZ0HAUAJ5If",
        "colab_type": "code",
        "colab": {}
      },
      "source": [
        "sns.pairplot(Num_hr_stats_le)"
      ],
      "execution_count": 0,
      "outputs": []
    },
    {
      "cell_type": "markdown",
      "metadata": {
        "id": "vlGDjMSuaPK8",
        "colab_type": "text"
      },
      "source": [
        "Благодаря корреляционной матрице мы видим, что данные слабо коррелируют за исключением пары отрицательно коррелирующих параметров и корреляции между статусом работы и причинами ухода, т.к. она отсутствует у работающих сотрудников."
      ]
    },
    {
      "cell_type": "code",
      "metadata": {
        "id": "3grXCLB0KqF0",
        "colab_type": "code",
        "colab": {}
      },
      "source": [
        "fig, ax = plt.subplots(figsize=(15,15)) \n",
        "sns.heatmap(Num_hr_stats_le.corr())"
      ],
      "execution_count": 0,
      "outputs": []
    },
    {
      "cell_type": "markdown",
      "metadata": {
        "id": "I-6dPWBga0zd",
        "colab_type": "text"
      },
      "source": [
        "#CatBoost"
      ]
    },
    {
      "cell_type": "markdown",
      "metadata": {
        "id": "oRa1QoaqfgaQ",
        "colab_type": "text"
      },
      "source": [
        "## Без подбора параметров"
      ]
    },
    {
      "cell_type": "code",
      "metadata": {
        "id": "Wuv66j1lWQWV",
        "colab_type": "code",
        "outputId": "ba472fc2-9d2b-4dfe-96e1-700f1d709619",
        "colab": {
          "base_uri": "https://localhost:8080/",
          "height": 34
        }
      },
      "source": [
        "y = Cat_hr_stats['Pay Rate']\n",
        "X = Cat_hr_stats.copy()\n",
        "col_del(X, ['Pay Rate'])"
      ],
      "execution_count": 19,
      "outputs": [
        {
          "output_type": "stream",
          "text": [
            "Столбец  Pay Rate  удален\n"
          ],
          "name": "stdout"
        }
      ]
    },
    {
      "cell_type": "code",
      "metadata": {
        "id": "JQ7_iWP6YTLQ",
        "colab_type": "code",
        "outputId": "1fb24257-73be-4045-b00c-918845b93934",
        "colab": {
          "base_uri": "https://localhost:8080/",
          "height": 34
        }
      },
      "source": [
        "cat_index = []\n",
        "i=0\n",
        "for t in X.dtypes:\n",
        "  if t=='O':\n",
        "    cat_index.append(i)\n",
        "  i+=1\n",
        "print(len(cat_index), cat_index)"
      ],
      "execution_count": 20,
      "outputs": [
        {
          "output_type": "stream",
          "text": [
            "12 [0, 1, 2, 3, 4, 5, 6, 7, 8, 9, 10, 11]\n"
          ],
          "name": "stdout"
        }
      ]
    },
    {
      "cell_type": "code",
      "metadata": {
        "id": "MjddzrAxSYYi",
        "colab_type": "code",
        "colab": {}
      },
      "source": [
        "from catboost import CatBoostRegressor, Pool\n",
        "from sklearn.model_selection import train_test_split\n",
        "from sklearn.metrics import r2_score, mean_squared_error, max_error"
      ],
      "execution_count": 0,
      "outputs": []
    },
    {
      "cell_type": "code",
      "metadata": {
        "id": "DnLZr-uiTJU-",
        "colab_type": "code",
        "colab": {}
      },
      "source": [
        "X_train, X_test, y_train, y_test = train_test_split(X, y, test_size=0.2, random_state=42)"
      ],
      "execution_count": 0,
      "outputs": []
    },
    {
      "cell_type": "code",
      "metadata": {
        "id": "d4E6wTIBSiFN",
        "colab_type": "code",
        "outputId": "0c3aa4d5-b0b9-4812-a419-f89304b86a5f",
        "colab": {
          "base_uri": "https://localhost:8080/",
          "height": 269
        }
      },
      "source": [
        "train_pool = Pool(X_train, y_train, cat_features = cat_index)\n",
        "eval_pool =  Pool(X_test, y_test, cat_features = cat_index)\n",
        "test_pool = Pool(X_test, cat_features = cat_index) \n",
        "\n",
        "\n",
        "params = {'iterations': None, 'task_type': \"GPU\", 'learning_rate': None, 'l2_leaf_reg': None}\n",
        "model = CatBoostRegressor(**params)\n",
        "\n",
        "model.fit(train_pool, eval_set = eval_pool, logging_level='Verbose', metric_period = 100) \n"
      ],
      "execution_count": 93,
      "outputs": [
        {
          "output_type": "stream",
          "text": [
            "0:\tlearn: 34.0742193\ttest: 33.5555442\tbest: 33.5555442 (0)\ttotal: 48.3ms\tremaining: 48.3s\n",
            "100:\tlearn: 7.7747055\ttest: 9.6680989\tbest: 9.6680989 (100)\ttotal: 3.23s\tremaining: 28.7s\n",
            "200:\tlearn: 6.3211294\ttest: 8.4774643\tbest: 8.4774643 (200)\ttotal: 6.23s\tremaining: 24.8s\n",
            "300:\tlearn: 5.7302527\ttest: 8.0589109\tbest: 8.0589109 (300)\ttotal: 9.14s\tremaining: 21.2s\n",
            "400:\tlearn: 5.3407989\ttest: 7.8308358\tbest: 7.8308358 (400)\ttotal: 12s\tremaining: 17.9s\n",
            "500:\tlearn: 4.9325701\ttest: 7.5968775\tbest: 7.5968775 (500)\ttotal: 14.9s\tremaining: 14.8s\n",
            "600:\tlearn: 4.6112963\ttest: 7.4462392\tbest: 7.4462392 (600)\ttotal: 17.7s\tremaining: 11.7s\n",
            "700:\tlearn: 4.3180517\ttest: 7.2610141\tbest: 7.2610141 (700)\ttotal: 20.6s\tremaining: 8.79s\n",
            "800:\tlearn: 4.1644554\ttest: 7.2160406\tbest: 7.2160406 (800)\ttotal: 23.4s\tremaining: 5.81s\n",
            "900:\tlearn: 4.0308430\ttest: 7.1493746\tbest: 7.1493746 (900)\ttotal: 26.1s\tremaining: 2.86s\n",
            "999:\tlearn: 3.8278267\ttest: 7.0994478\tbest: 7.0994478 (999)\ttotal: 28.8s\tremaining: 0us\n",
            "bestTest = 7.099447773\n",
            "bestIteration = 999\n",
            "Shrink model to first 1000 iterations.\n"
          ],
          "name": "stdout"
        },
        {
          "output_type": "execute_result",
          "data": {
            "text/plain": [
              "<catboost.core.CatBoostRegressor at 0x7f0f865ba048>"
            ]
          },
          "metadata": {
            "tags": []
          },
          "execution_count": 93
        }
      ]
    },
    {
      "cell_type": "code",
      "metadata": {
        "id": "86L9hRjDZVJJ",
        "colab_type": "code",
        "outputId": "e565f4c3-2f3a-45f3-da23-9afcc15ecbed",
        "colab": {
          "base_uri": "https://localhost:8080/",
          "height": 67
        }
      },
      "source": [
        "y_pred = model.predict(test_pool)\n",
        "print('R2:', r2_score(y_test, y_pred))\n",
        "print('RMSE:', model.score(X_test, y_test))\n",
        "print('Max_error:', max_error(y_test, y_pred))"
      ],
      "execution_count": 94,
      "outputs": [
        {
          "output_type": "stream",
          "text": [
            "R2: 0.7973743292512916\n",
            "RMSE: 7.099443755943134\n",
            "Max_error: 22.41703013729782\n"
          ],
          "name": "stdout"
        }
      ]
    },
    {
      "cell_type": "markdown",
      "metadata": {
        "id": "ioqCsARMfPzs",
        "colab_type": "text"
      },
      "source": [
        "## Подбор параметров"
      ]
    },
    {
      "cell_type": "code",
      "metadata": {
        "id": "hiPaJMIEfTEk",
        "colab_type": "code",
        "colab": {}
      },
      "source": [
        "def CB_GridSearch(X, y, cat_index):\n",
        "    res=[]\n",
        "    X_train, X_test, y_train, y_test = train_test_split(X, y, test_size=0.2, random_state=42)\n",
        "    train_pool = Pool(X_train, y_train, cat_features = cat_index)\n",
        "    eval_pool =  Pool(X_test, y_test, cat_features = cat_index)\n",
        "    test_pool = Pool(X_test, cat_features = cat_index)\n",
        "    params = {'iterations': [1000, 3500, 7000], \n",
        "          'learning_rate': [0.003, 0.01, 0.03], \n",
        "          'l2_leaf_reg': [0, 0.01, 0.1, 1], \n",
        "          'random_seed': [42]}\n",
        "    for i in params['iterations']:\n",
        "        for lr in params['learning_rate']:\n",
        "            for l2_reg in params['l2_leaf_reg']:\n",
        "                for rs in params['random_seed']:\n",
        "                    model = CatBoostRegressor(iterations=i, learning_rate = lr, l2_leaf_reg  = l2_reg, random_seed = rs, task_type = \"GPU\")\n",
        "                    model.fit(train_pool, eval_set = eval_pool, silent=True)\n",
        "                    y_pred = model.predict(test_pool)\n",
        "                    res.append({'model': model,'i': i, 'lr': lr, 'l2': l2_reg, \n",
        "                                'r2': r2_score(y_test, y_pred), \n",
        "                                'rmse': model.score(X_test, y_test),\n",
        "                                'max_err': max_error(y_test, y_pred)})\n",
        "    return res"
      ],
      "execution_count": 0,
      "outputs": []
    },
    {
      "cell_type": "code",
      "metadata": {
        "id": "JH0N2oSIn-K3",
        "colab_type": "code",
        "colab": {}
      },
      "source": [
        "res = CB_GridSearch(X, y, cat_index)"
      ],
      "execution_count": 0,
      "outputs": []
    },
    {
      "cell_type": "code",
      "metadata": {
        "id": "JWFEux6Gvmok",
        "colab_type": "code",
        "colab": {
          "base_uri": "https://localhost:8080/",
          "height": 54
        },
        "outputId": "c509c9c0-3f91-4924-cc47-22154d7f8583"
      },
      "source": [
        "max_r = res[0]\n",
        "for r in res:\n",
        "  if r['r2']>max_r['r2']:\n",
        "    max_r = r\n",
        "print(max_r)"
      ],
      "execution_count": 31,
      "outputs": [
        {
          "output_type": "stream",
          "text": [
            "{'model': <catboost.core.CatBoostRegressor object at 0x7f0fa4cbbeb8>, 'i': 1000, 'lr': 0.03, 'l2': 0, 'r2': 0.8220829016434328, 'rmse': 6.652516091205777, 'max_err': 16.56777224673966}\n"
          ],
          "name": "stdout"
        }
      ]
    },
    {
      "cell_type": "code",
      "metadata": {
        "id": "Cgd1Eo9Gp_yE",
        "colab_type": "code",
        "colab": {}
      },
      "source": [
        "def show_result(x, y_true, y_pred):\n",
        "  X=x['Days Employed']\n",
        "  plt.figure(figsize=(6, 4))\n",
        "  x_low = 0.9*min(X)\n",
        "  x_high = 1.1*max(X)\n",
        "  x_extended = np.linspace(x_low, x_high, 100)\n",
        "  plt.xlim(x_low, x_high)\n",
        "  plt.xlabel('Дней проработано')\n",
        "  plt.ylabel('Уровень оплаты')\n",
        "  plt.scatter(X, y_true,  color='blue')\n",
        "  plt.scatter(X, y_pred,  color='red')\n",
        "  plt.legend(('Истинные значения', 'Предсказанные значения'), loc='best')\n",
        "  plt.title('Предсказание уровня оплаты работника')\n",
        "  plt.show()"
      ],
      "execution_count": 0,
      "outputs": []
    },
    {
      "cell_type": "code",
      "metadata": {
        "id": "KvEP1ZiOr1Xj",
        "colab_type": "code",
        "colab": {
          "base_uri": "https://localhost:8080/",
          "height": 301
        },
        "outputId": "6917cb52-5e87-4705-a7e2-adfe8df0437b"
      },
      "source": [
        "params = {'iterations': 1000, 'task_type': \"GPU\", 'learning_rate': 0.03, 'l2_leaf_reg': 0, 'silent': True}\n",
        "model = CatBoostRegressor(**params)\n",
        "model.fit(train_pool)\n",
        "show_result(X_test, y_test, model.predict(test_pool))"
      ],
      "execution_count": 105,
      "outputs": [
        {
          "output_type": "display_data",
          "data": {
            "image/png": "[encoded data removed]",
            "text/plain": [
              "<Figure size 432x288 with 1 Axes>"
            ]
          },
          "metadata": {
            "tags": []
          }
        }
      ]
    },
    {
      "cell_type": "markdown",
      "metadata": {
        "id": "lUD_N9KoeL_q",
        "colab_type": "text"
      },
      "source": [
        "# GradientBoostingRegressor"
      ]
    },
    {
      "cell_type": "markdown",
      "metadata": {
        "id": "x0Drlhu7fnFK",
        "colab_type": "text"
      },
      "source": [
        "## Без подбора параметров"
      ]
    },
    {
      "cell_type": "markdown",
      "metadata": {
        "id": "caUW8-KZfV6V",
        "colab_type": "text"
      },
      "source": [
        "### One Hot Encoding"
      ]
    },
    {
      "cell_type": "code",
      "metadata": {
        "id": "qu67X_Iiqsl1",
        "colab_type": "code",
        "outputId": "c67ad371-63bc-4efb-acc0-7035e1d47a06",
        "colab": {
          "base_uri": "https://localhost:8080/",
          "height": 34
        }
      },
      "source": [
        "y = Num_hr_stats_ohe['Pay Rate']\n",
        "X = Num_hr_stats_ohe.copy()\n",
        "col_del(X, ['Pay Rate'])"
      ],
      "execution_count": 46,
      "outputs": [
        {
          "output_type": "stream",
          "text": [
            "Столбец  Pay Rate  удален\n"
          ],
          "name": "stdout"
        }
      ]
    },
    {
      "cell_type": "code",
      "metadata": {
        "id": "HsNz4XIhqyP_",
        "colab_type": "code",
        "colab": {}
      },
      "source": [
        "X_train, X_test, y_train, y_test = train_test_split(X, y, test_size=0.2, random_state=42)"
      ],
      "execution_count": 0,
      "outputs": []
    },
    {
      "cell_type": "code",
      "metadata": {
        "id": "XoXva5BVq62F",
        "colab_type": "code",
        "outputId": "c5eb3f8b-540d-484e-c783-cbcf8c7986df",
        "colab": {
          "base_uri": "https://localhost:8080/",
          "height": 168
        }
      },
      "source": [
        "from sklearn.ensemble import GradientBoostingRegressor\n",
        "\n",
        "gbr = GradientBoostingRegressor(loss='ls', learning_rate=0.1, n_estimators=100, \n",
        "                                criterion='friedman_mse', max_depth=3, random_state=42, \n",
        "                                alpha=0.9, verbose=0, validation_fraction=0.1, tol=0.0001)\n",
        "gbr.fit(X_train, y_train)"
      ],
      "execution_count": 48,
      "outputs": [
        {
          "output_type": "execute_result",
          "data": {
            "text/plain": [
              "GradientBoostingRegressor(alpha=0.9, criterion='friedman_mse', init=None,\n",
              "                          learning_rate=0.1, loss='ls', max_depth=3,\n",
              "                          max_features=None, max_leaf_nodes=None,\n",
              "                          min_impurity_decrease=0.0, min_impurity_split=None,\n",
              "                          min_samples_leaf=1, min_samples_split=2,\n",
              "                          min_weight_fraction_leaf=0.0, n_estimators=100,\n",
              "                          n_iter_no_change=None, presort='auto',\n",
              "                          random_state=42, subsample=1.0, tol=0.0001,\n",
              "                          validation_fraction=0.1, verbose=0, warm_start=False)"
            ]
          },
          "metadata": {
            "tags": []
          },
          "execution_count": 48
        }
      ]
    },
    {
      "cell_type": "code",
      "metadata": {
        "id": "5WtVJfYGskUY",
        "colab_type": "code",
        "outputId": "4669e61b-99d1-465e-d2b7-29bc53238d4c",
        "colab": {
          "base_uri": "https://localhost:8080/",
          "height": 50
        }
      },
      "source": [
        "import math\n",
        "\n",
        "y_pred = gbr.predict(X_test)\n",
        "print(r2_score(y_test, y_pred))\n",
        "print(math.sqrt(mean_squared_error(y_pred, y_test)))"
      ],
      "execution_count": 49,
      "outputs": [
        {
          "output_type": "stream",
          "text": [
            "0.9122283360636667\n",
            "4.672553212576529\n"
          ],
          "name": "stdout"
        }
      ]
    },
    {
      "cell_type": "markdown",
      "metadata": {
        "id": "1kBRSY61fwiR",
        "colab_type": "text"
      },
      "source": [
        "### Label Encoding"
      ]
    },
    {
      "cell_type": "code",
      "metadata": {
        "id": "tZ73yksKtYaK",
        "colab_type": "code",
        "colab": {
          "base_uri": "https://localhost:8080/",
          "height": 34
        },
        "outputId": "e63ebecc-f8f2-40dd-a460-ffb8d12f1b78"
      },
      "source": [
        "y = Num_hr_stats_le['Pay Rate']\n",
        "X = Num_hr_stats_le.copy()\n",
        "col_del(X, ['Pay Rate'])"
      ],
      "execution_count": 50,
      "outputs": [
        {
          "output_type": "stream",
          "text": [
            "Столбец  Pay Rate  удален\n"
          ],
          "name": "stdout"
        }
      ]
    },
    {
      "cell_type": "code",
      "metadata": {
        "id": "IsGMEAgSf8bn",
        "colab_type": "code",
        "colab": {}
      },
      "source": [
        "X_train, X_test, y_train, y_test = train_test_split(X, y, test_size=0.2, random_state=42)"
      ],
      "execution_count": 0,
      "outputs": []
    },
    {
      "cell_type": "code",
      "metadata": {
        "id": "6ehxkYqZf968",
        "colab_type": "code",
        "colab": {
          "base_uri": "https://localhost:8080/",
          "height": 50
        },
        "outputId": "bbb5cd43-a9ac-4af1-bb8a-f435bf5800fd"
      },
      "source": [
        "gbr = GradientBoostingRegressor(loss='ls', learning_rate=0.1, n_estimators=100, \n",
        "                                criterion='friedman_mse', max_depth=3, random_state=42)\n",
        "gbr.fit(X_train, y_train)\n",
        "y_pred = gbr.predict(X_test)\n",
        "print(r2_score(y_test, y_pred))\n",
        "print(math.sqrt(mean_squared_error(y_pred, y_test)))"
      ],
      "execution_count": 108,
      "outputs": [
        {
          "output_type": "stream",
          "text": [
            "0.9148671071348414\n",
            "4.6017792956075345\n"
          ],
          "name": "stdout"
        }
      ]
    },
    {
      "cell_type": "markdown",
      "metadata": {
        "id": "wkuovSgAgt08",
        "colab_type": "text"
      },
      "source": [
        "##Подбор параметров"
      ]
    },
    {
      "cell_type": "markdown",
      "metadata": {
        "id": "PY5-Aucugx17",
        "colab_type": "text"
      },
      "source": [
        "Label Encoding показал себя совсем чуть лучше, поэтому применяем данные, обработанные этим методом"
      ]
    },
    {
      "cell_type": "code",
      "metadata": {
        "id": "QQkTJTgZgtPx",
        "colab_type": "code",
        "colab": {
          "base_uri": "https://localhost:8080/",
          "height": 403
        },
        "outputId": "927677ba-f20a-4e15-9ab2-b5c49357740e"
      },
      "source": [
        "from sklearn.model_selection import GridSearchCV\n",
        "\n",
        "gbr_parameters = {'loss' : ['ls'], \n",
        "                  'learning_rate': [0.01, 0.1, 1],\n",
        "                  'random_state': [42],\n",
        "                  'n_estimators': [60, 100, 120],\n",
        "                  'max_depth': [2, 3, 4, 5]}\n",
        "model = gbr\n",
        "cv = ShuffleSplit(n_splits = 30, test_size = 0.2)\n",
        "grid = GridSearchCV(model, gbr_parameters, cv = cv)\n",
        "grid.fit(X_train, y_train)"
      ],
      "execution_count": 55,
      "outputs": [
        {
          "output_type": "execute_result",
          "data": {
            "text/plain": [
              "GridSearchCV(cv=ShuffleSplit(n_splits=30, random_state=None, test_size=0.2, train_size=None),\n",
              "             error_score='raise-deprecating',\n",
              "             estimator=GradientBoostingRegressor(alpha=0.9,\n",
              "                                                 criterion='friedman_mse',\n",
              "                                                 init=None, learning_rate=0.1,\n",
              "                                                 loss='ls', max_depth=3,\n",
              "                                                 max_features=None,\n",
              "                                                 max_leaf_nodes=None,\n",
              "                                                 min_impurity_decrease=0.0,\n",
              "                                                 min_impurity_split=None,\n",
              "                                                 min_samples_leaf=1,...\n",
              "                                                 n_iter_no_change=None,\n",
              "                                                 presort='auto',\n",
              "                                                 random_state=42, subsample=1.0,\n",
              "                                                 tol=0.0001,\n",
              "                                                 validation_fraction=0.1,\n",
              "                                                 verbose=0, warm_start=False),\n",
              "             iid='warn', n_jobs=None,\n",
              "             param_grid={'learning_rate': [0.01, 0.1, 1], 'loss': ['ls'],\n",
              "                         'max_depth': [2, 3, 4, 5],\n",
              "                         'n_estimators': [60, 100, 120], 'random_state': [42]},\n",
              "             pre_dispatch='2*n_jobs', refit=True, return_train_score=False,\n",
              "             scoring=None, verbose=0)"
            ]
          },
          "metadata": {
            "tags": []
          },
          "execution_count": 55
        }
      ]
    },
    {
      "cell_type": "code",
      "metadata": {
        "id": "GC0F0aLdiHcF",
        "colab_type": "code",
        "colab": {
          "base_uri": "https://localhost:8080/",
          "height": 34
        },
        "outputId": "fbc2d8d0-8943-4779-d141-739d6ffc14fb"
      },
      "source": [
        "print(grid.best_params_)"
      ],
      "execution_count": 56,
      "outputs": [
        {
          "output_type": "stream",
          "text": [
            "{'learning_rate': 0.1, 'loss': 'ls', 'max_depth': 2, 'n_estimators': 60, 'random_state': 42}\n"
          ],
          "name": "stdout"
        }
      ]
    },
    {
      "cell_type": "code",
      "metadata": {
        "id": "qGSJyfqCieIx",
        "colab_type": "code",
        "colab": {
          "base_uri": "https://localhost:8080/",
          "height": 50
        },
        "outputId": "0157c9da-64af-40c3-a1a7-d32a3d020c69"
      },
      "source": [
        "gbr = GradientBoostingRegressor(loss='ls', learning_rate=0.1, n_estimators=60, \n",
        "                                criterion='friedman_mse', max_depth=2, random_state=42)\n",
        "gbr.fit(X_train, y_train)\n",
        "y_pred = gbr.predict(X_test)\n",
        "print(r2_score(y_test, y_pred))\n",
        "print(math.sqrt(mean_squared_error(y_pred, y_test)))"
      ],
      "execution_count": 109,
      "outputs": [
        {
          "output_type": "stream",
          "text": [
            "0.8828446801785004\n",
            "5.398313439154697\n"
          ],
          "name": "stdout"
        }
      ]
    },
    {
      "cell_type": "code",
      "metadata": {
        "id": "GqpPgB30sMrJ",
        "colab_type": "code",
        "colab": {}
      },
      "source": [
        "from sklearn.model_selection import learning_curve\n",
        "from sklearn.model_selection import ShuffleSplit\n",
        "\n",
        "def plot_learning_curve(estimator, title, X, y, ylim=None, cv=None, n_jobs=None, train_sizes=np.linspace(.1, 1.0, 5)):\n",
        "    plt.figure()\n",
        "    plt.title(title)\n",
        "    if ylim is not None:\n",
        "        plt.ylim(*ylim)\n",
        "    plt.xlabel(\"Training examples\")\n",
        "    plt.ylabel(\"Score\")\n",
        "    train_sizes, train_scores, test_scores = learning_curve(\n",
        "        estimator, X, y, cv=cv, n_jobs=n_jobs, train_sizes=train_sizes)\n",
        "    train_scores_mean = np.mean(train_scores, axis=1)\n",
        "    train_scores_std = np.std(train_scores, axis=1)\n",
        "    test_scores_mean = np.mean(test_scores, axis=1)\n",
        "    test_scores_std = np.std(test_scores, axis=1)\n",
        "    plt.grid()\n",
        "\n",
        "    plt.fill_between(train_sizes, train_scores_mean - train_scores_std,\n",
        "                     train_scores_mean + train_scores_std, alpha=0.1,\n",
        "                     color=\"r\")\n",
        "    plt.fill_between(train_sizes, test_scores_mean - test_scores_std,\n",
        "                     test_scores_mean + test_scores_std, alpha=0.1, color=\"g\")\n",
        "    plt.plot(train_sizes, train_scores_mean, 'o-', color=\"r\",\n",
        "             label=\"Training score\")\n",
        "    plt.plot(train_sizes, test_scores_mean, 'o-', color=\"g\",\n",
        "             label=\"Cross-validation score\")\n",
        "\n",
        "    plt.legend(loc=\"best\")\n",
        "    return plt"
      ],
      "execution_count": 0,
      "outputs": []
    },
    {
      "cell_type": "code",
      "metadata": {
        "id": "Dq1-rybHs_6B",
        "colab_type": "code",
        "colab": {
          "base_uri": "https://localhost:8080/",
          "height": 301
        },
        "outputId": "2f00177c-29e4-4f08-f10c-d0d21d0a0b5c"
      },
      "source": [
        "title = \"Кривая обчения\"\n",
        "estimator = GradientBoostingRegressor(**(grid.best_params_))\n",
        "cv = ShuffleSplit(n_splits=30, test_size=0.2, random_state=42)\n",
        "plot_learning_curve(estimator, title, X, y, cv=cv, n_jobs=4)\n",
        "\n",
        "plt.show()"
      ],
      "execution_count": 60,
      "outputs": [
        {
          "output_type": "display_data",
          "data": {
            "image/png": "[encoded data removed]",
            "text/plain": [
              "<Figure size 432x288 with 1 Axes>"
            ]
          },
          "metadata": {
            "tags": []
          }
        }
      ]
    },
    {
      "cell_type": "code",
      "metadata": {
        "id": "9UNiE6IZW1ZI",
        "colab_type": "code",
        "colab": {}
      },
      "source": [
        "from sklearn.model_selection import validation_curve\n",
        "from sklearn.metrics import make_scorer\n",
        "\n",
        "def val_curve(X, y, model):\n",
        "  X, y = X, y\n",
        "\n",
        "  param_range = np.logspace(-6, -1, 5)\n",
        "  cv = ShuffleSplit(n_splits=30, test_size=0.2, random_state=42)\n",
        "  r2_scorer = make_scorer(r2_score)\n",
        "  train_scores, test_scores = validation_curve(model, X, y, param_name=\"learning_rate\", param_range=param_range, cv=cv, scoring=r2_scorer, n_jobs=4)\n",
        "  train_scores_mean = np.mean(train_scores, axis=1)\n",
        "  train_scores_std = np.std(train_scores, axis=1)\n",
        "  test_scores_mean = np.mean(test_scores, axis=1)\n",
        "  test_scores_std = np.std(test_scores, axis=1)\n",
        "\n",
        "  plt.title(\"Validation Curve\")\n",
        "  plt.xlabel(\"learning_rate\")\n",
        "  plt.ylabel(\"R2 Score\")\n",
        "  plt.ylim(0.0, 1.1)\n",
        "  lw = 2\n",
        "  plt.semilogx(param_range, train_scores_mean, label=\"Training score\",\n",
        "               color=\"darkorange\", lw=lw)\n",
        "  plt.fill_between(param_range, train_scores_mean - train_scores_std,\n",
        "                   train_scores_mean + train_scores_std, alpha=0.2,\n",
        "                   color=\"darkorange\", lw=lw)\n",
        "  plt.semilogx(param_range, test_scores_mean, label=\"Cross-validation score\",\n",
        "               color=\"navy\", lw=lw)\n",
        "  plt.fill_between(param_range, test_scores_mean - test_scores_std,\n",
        "                   test_scores_mean + test_scores_std, alpha=0.2,\n",
        "                   color=\"navy\", lw=lw)\n",
        "  plt.legend(loc=\"best\")\n",
        "  plt.show()"
      ],
      "execution_count": 0,
      "outputs": []
    },
    {
      "cell_type": "code",
      "metadata": {
        "id": "qczaLLHdqRjo",
        "colab_type": "code",
        "colab": {}
      },
      "source": [
        ""
      ],
      "execution_count": 0,
      "outputs": []
    },
    {
      "cell_type": "code",
      "metadata": {
        "id": "Tzvn8lD_qRvj",
        "colab_type": "code",
        "colab": {}
      },
      "source": [
        ""
      ],
      "execution_count": 0,
      "outputs": []
    },
    {
      "cell_type": "code",
      "metadata": {
        "id": "sAEeMCUFjReR",
        "colab_type": "code",
        "colab": {
          "base_uri": "https://localhost:8080/",
          "height": 307
        },
        "outputId": "41efe8d3-81f4-498f-95e0-bda57c76cb7d"
      },
      "source": [
        "val_curve(X, y, estimator)"
      ],
      "execution_count": 89,
      "outputs": [
        {
          "output_type": "display_data",
          "data": {
            "image/png": "[encoded data removed]",
            "text/plain": [
              "<Figure size 432x288 with 1 Axes>"
            ]
          },
          "metadata": {
            "tags": []
          }
        }
      ]
    },
    {
      "cell_type": "code",
      "metadata": {
        "id": "2w77fvuTtEF2",
        "colab_type": "code",
        "colab": {
          "base_uri": "https://localhost:8080/",
          "height": 301
        },
        "outputId": "9d11e66a-ee05-4220-90a0-bc00cebf6dc2"
      },
      "source": [
        "show_result(X_test, y_test, y_pred)"
      ],
      "execution_count": 110,
      "outputs": [
        {
          "output_type": "display_data",
          "data": {
            "image/png": "[encoded data removed]",
            "text/plain": [
              "<Figure size 432x288 with 1 Axes>"
            ]
          },
          "metadata": {
            "tags": []
          }
        }
      ]
    },
    {
      "cell_type": "markdown",
      "metadata": {
        "id": "Y0olY37phHZa",
        "colab_type": "text"
      },
      "source": [
        "#Вывод"
      ]
    },
    {
      "cell_type": "markdown",
      "metadata": {
        "id": "dNGp2OFXhMMe",
        "colab_type": "text"
      },
      "source": [
        "В ходе курсовой работы я решал задачу регрессии - предсказывал уровень оплаты работника, на основе его данных с помощью двух близких по роду ансамблевых моделей - обычного градиентного бустинга и модели компании Yandex - CatBoost.  \n",
        "\n",
        "Умение CatBoost работать с категориальными параметрами \"из под капота\" - удобная функция, которая упрощает разработку модели, особенно с наборами данных, включающими множество разнородной категориальной информации.  \n",
        "\n",
        "В результате обучения и подбора параметров обоих моделей на одних и тех же наборах параметров лучшим вариантом по точности и времени обучения оказалась модель обычного градиентного бустинга.  \n",
        "\n",
        "Модель CatBoost также имеет конкурирующую точность, но отличается довольно долгим обучением. Также она имеет большой набор гиперпараметров, которые сложно подобрать в рамках курсовой работы. Таким образом, при должной настройке, данный алгоритм наверняка может показать себя с лучшей стороны."
      ]
    }
  ]
}